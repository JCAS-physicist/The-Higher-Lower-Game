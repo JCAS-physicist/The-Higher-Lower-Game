{
 "cells": [
  {
   "cell_type": "code",
   "execution_count": null,
   "id": "1249f941",
   "metadata": {},
   "outputs": [],
   "source": [
    "from game_data import data\n",
    "import random\n",
    "\n",
    "logo = \"\"\"\n",
    "    __  ___       __             \n",
    "   / / / (_)___ _/ /_  ___  _____\n",
    "  / /_/ / / __ `/ __ \\/ _ \\/ ___/\n",
    " / __  / / /_/ / / / /  __/ /    \n",
    "/_/ ///_/\\__, /_/ /_/\\___/_/     \n",
    "   / /  /____/_      _____  _____\n",
    "  / /   / __ \\ | /| / / _ \\/ ___/\n",
    " / /___/ /_/ / |/ |/ /  __/ /    \n",
    "/_____/\\____/|__/|__/\\___/_/     \n",
    "\"\"\"\n",
    "\n",
    "vs = \"\"\"\n",
    " _    __    \n",
    "| |  / /____\n",
    "| | / / ___/\n",
    "| |/ (__  ) \n",
    "|___/____(_)\n",
    "\"\"\"\n"
   ]
  },
  {
   "cell_type": "code",
   "execution_count": null,
   "id": "d5bf7162",
   "metadata": {},
   "outputs": [],
   "source": [
    "def format_data(account):\n",
    "    \"Format the account data into printable data\"\n",
    "    account_name= account[\"name\"]\n",
    "    account_descr= account[\"description\"]\n",
    "    account_country= account[\"country\"]\n",
    "    return (f\"{account_name}, a {account_descr}, from {account_country}\")\n",
    "\n",
    "def check_answer(guess,a_followers,b_followers):\n",
    "    \"Returns if the guesses got it right\"\n",
    "    if a_followers > b_followers:\n",
    "        return guess==\"a\"\n",
    "    else:\n",
    "        return guess==\"b\"\n",
    "    \n",
    "def get_random_account():\n",
    "    \"Get random data\"\n",
    "    return random.choice(data)\n",
    "\n",
    "    "
   ]
  },
  {
   "cell_type": "code",
   "execution_count": null,
   "id": "e37a587a",
   "metadata": {},
   "outputs": [],
   "source": [
    "score=0\n",
    "game_should_continue= True\n",
    "account_b=get_random_account()\n",
    "\n",
    "while game_should_continue:\n",
    "    account_a= account_b  \n",
    "    account_b= get_random_account()\n",
    "    \n",
    "    while account_a == account_b:\n",
    "        account_b = get_random_account()\n",
    "        \n",
    "    print(logo)\n",
    "    print(f\"Compare A: {format_data(account_a)}\")\n",
    "    print(vs)\n",
    "    print(f\"Against B: {format_data(account_b)}\")\n",
    "    \n",
    "    guess = input(\"\\nWho has more followers? Type 'A' or 'B': \").lower()\n",
    "\n",
    "    a_follower_account= account_a[\"follower_count\"]\n",
    "    b_follower_account= account_b[\"follower_count\"]\n",
    "    is_correct= check_answer(guess,a_follower_account, b_follower_account)\n",
    "\n",
    "    if is_correct:\n",
    "        score+=1\n",
    "        print(f\"You're right! Current score: {score}.\")\n",
    "    else:\n",
    "        game_should_continue=False\n",
    "        print(f\"Sorry, that's wrong. Final score: {score}.\")"
   ]
  },
  {
   "cell_type": "code",
   "execution_count": null,
   "id": "c75ae3f1",
   "metadata": {},
   "outputs": [],
   "source": []
  }
 ],
 "metadata": {
  "kernelspec": {
   "display_name": "Python 3 (ipykernel)",
   "language": "python",
   "name": "python3"
  },
  "language_info": {
   "codemirror_mode": {
    "name": "ipython",
    "version": 3
   },
   "file_extension": ".py",
   "mimetype": "text/x-python",
   "name": "python",
   "nbconvert_exporter": "python",
   "pygments_lexer": "ipython3",
   "version": "3.10.6"
  }
 },
 "nbformat": 4,
 "nbformat_minor": 5
}
